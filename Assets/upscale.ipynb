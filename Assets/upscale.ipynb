{
 "cells": [
  {
   "cell_type": "code",
   "execution_count": 3,
   "metadata": {},
   "outputs": [],
   "source": [
    "# IMPORTAR LIBRERÍAS\n",
    "\n",
    "import cv2\n",
    "from cv2 import dnn_superres\n",
    "from tqdm.notebook import tqdm\n",
    "import os"
   ]
  },
  {
   "cell_type": "code",
   "execution_count": null,
   "metadata": {},
   "outputs": [],
   "source": [
    "# Función de escalado\n",
    "def upscale(sr, filename, source_folder, output_folder):\n",
    "    output = f\"{output_folder}/{filename}\"\n",
    "    if os.path.exists(output):\n",
    "        return\n",
    "    image = cv2.imread(f\"{source_folder}/{filename}\")\n",
    "    result = sr.upsample(image)\n",
    "    cv2.imwrite(output, result)"
   ]
  },
  {
   "cell_type": "code",
   "execution_count": null,
   "metadata": {},
   "outputs": [],
   "source": [
    "# Establecer modelo\n",
    "sr = dnn_superres.DnnSuperResImpl_create()\n",
    "model_path = \"models/ESPCN_x3.pb\"\n",
    "sr.readModel(model_path)\n",
    "sr.setModel(\"espcn\", 3)"
   ]
  },
  {
   "cell_type": "code",
   "execution_count": null,
   "metadata": {},
   "outputs": [],
   "source": [
    "input_folder = \"./Letras\"\n",
    "output_folder = \"./Letras3K\"\n",
    "\n",
    "if not os.path.exists(output_folder):\n",
    "    os.makedirs(output_folder)\n",
    "\n",
    "dirlist = next(os.walk(f\"{input_folder}\"))[1]\n",
    "for dirname in tqdm(list(dirlist)):\n",
    "    source = f\"{input_folder}/{dirname}\"\n",
    "    target = f\"{output_folder}/{dirname}\"\n",
    "    if not os.path.exists(target):\n",
    "        os.makedirs(target)\n",
    "    included_extensions = (\".jpg\", \".jpeg\", \".bmp\", \".png\")\n",
    "    imgfiles = [fn for fn in os.listdir(source) if fn.endswith(included_extensions)]\n",
    "    \n",
    "    for imgfile in imgfiles:\n",
    "        upscale(sr,imgfile,source,target)\n"
   ]
  },
  {
   "cell_type": "code",
   "execution_count": 5,
   "metadata": {},
   "outputs": [
    {
     "data": {
      "application/vnd.jupyter.widget-view+json": {
       "model_id": "2b5ae706a8974c32a1844c604b9028c8",
       "version_major": 2,
       "version_minor": 0
      },
      "text/plain": [
       "  0%|          | 0/100 [00:00<?, ?it/s]"
      ]
     },
     "metadata": {},
     "output_type": "display_data"
    }
   ],
   "source": [
    "# Mejorar calidad\n",
    "import numpy as np\n",
    "from multiprocessing.dummy import Pool as ThreadPool\n",
    "\n",
    "def improve(filename, source_folder, output_folder):\n",
    "    output = f\"{output_folder}/{filename}\"\n",
    "    if os.path.exists(output):\n",
    "        return\n",
    "    image = cv2.imread(f\"{source_folder}/{filename}\")\n",
    "    kernel = np.array([[0, -1, 0], [-1, 5, -1], [0, -1, 0]])\n",
    "    image = cv2.filter2D(image, -2, kernel) #nitidez\n",
    "    image = cv2.fastNlMeansDenoisingColored(image, None, 20, 20) #ruido\n",
    "    cv2.imwrite(output, image)\n",
    "\n",
    "input_folder = \"./raw\"\n",
    "output_folder = \"./BetterLetras2K/\"\n",
    "\n",
    "if not os.path.exists(output_folder):\n",
    "    os.makedirs(output_folder)\n",
    "\n",
    "dirlist = next(os.walk(f\"{input_folder}\"))[1]\n",
    "for dirname in tqdm(list(dirlist)):\n",
    "    \n",
    "    source = f\"{input_folder}/{dirname}\"\n",
    "    target = f\"{output_folder}/{dirname}\"\n",
    "    if not os.path.exists(target):\n",
    "        os.makedirs(target)\n",
    "    included_extensions = (\".jpg\", \".jpeg\", \".bmp\", \".png\")\n",
    "    imgfiles = [fn for fn in os.listdir(source) if fn.endswith(included_extensions)]\n",
    "    imgpaths = []\n",
    "    pool = ThreadPool(processes=12)\n",
    "    for imgfile in imgfiles:\n",
    "        pool.apply_async(improve, args=(imgfile,source,target))\n",
    "    pool.close()\n",
    "    pool.join()"
   ]
  }
 ],
 "metadata": {
  "kernelspec": {
   "display_name": "Python 3",
   "language": "python",
   "name": "python3"
  },
  "language_info": {
   "codemirror_mode": {
    "name": "ipython",
    "version": 3
   },
   "file_extension": ".py",
   "mimetype": "text/x-python",
   "name": "python",
   "nbconvert_exporter": "python",
   "pygments_lexer": "ipython3",
   "version": "3.11.5"
  },
  "orig_nbformat": 4
 },
 "nbformat": 4,
 "nbformat_minor": 2
}
